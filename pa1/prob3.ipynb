{
 "cells": [
  {
   "cell_type": "code",
   "execution_count": 100,
   "metadata": {
    "collapsed": true
   },
   "outputs": [],
   "source": [
    "# This Problem relates to calculating probabilities"
   ]
  },
  {
   "cell_type": "code",
   "execution_count": null,
   "metadata": {
    "collapsed": true
   },
   "outputs": [],
   "source": [
    "import pandas as pd"
   ]
  },
  {
   "cell_type": "code",
   "execution_count": 37,
   "metadata": {
    "collapsed": true
   },
   "outputs": [],
   "source": [
    "filename1 = 'Data/311_Service_Requests_-_Vacant_and_Abandoned_Buildings_Reported'\n",
    "filename2 = 'Data/311_Service_Requests_-_Graffiti_Removal'\n",
    "filename3 = 'Data/311_Service_Requests_-_Pot_Holes_Reported'\n",
    "filename4 = 'Data/311_Service_Requests_-_Sanitation_Code_Complaints'\n",
    "\n",
    "df1 = pd.read_csv(filename1 + '.csv', skiprows = [1], encoding = \"ISO-8859-1\")\n",
    "df2 = pd.read_csv(filename2 + '.csv', encoding = \"ISO-8859-1\")\n",
    "df3 = pd.read_csv(filename3 + '.csv', encoding = \"ISO-8859-1\")\n",
    "df4 = pd.read_csv(filename4 + '.csv', skiprows = [1], encoding = \"ISO-8859-1\")"
   ]
  },
  {
   "cell_type": "markdown",
   "metadata": {},
   "source": [
    "Question 3(a)"
   ]
  },
  {
   "cell_type": "code",
   "execution_count": 36,
   "metadata": {
    "collapsed": false
   },
   "outputs": [
    {
     "data": {
      "text/plain": [
       "Series([], Name: STREET ADDRESS, dtype: object)"
      ]
     },
     "execution_count": 36,
     "metadata": {},
     "output_type": "execute_result"
    }
   ],
   "source": [
    "df1['STREET ADDRESS'] = df1['ADDRESS STREET NUMBER'].map(str) + ' ' + df1['ADDRESS STREET DIRECTION'].map(str) + ' ' + df1['ADDRESS STREET NAME'].map(str) + ' ' + df1['ADDRESS STREET SUFFIX'].map(str)\n",
    "df1['STREET ADDRESS'][df1['STREET ADDRESS'] == '7500 S WOLCOTT AVE'] # no complaint"
   ]
  },
  {
   "cell_type": "code",
   "execution_count": 35,
   "metadata": {
    "collapsed": false
   },
   "outputs": [
    {
     "data": {
      "text/plain": [
       "Series([], Name: Street Address, dtype: object)"
      ]
     },
     "execution_count": 35,
     "metadata": {},
     "output_type": "execute_result"
    }
   ],
   "source": [
    "df2['Street Address'] = df2['Street Address'].astype('str') \n",
    "df2['Street Address'][df2['Street Address'] == '7500 S WOLCOTT AVE'] # no complaint"
   ]
  },
  {
   "cell_type": "code",
   "execution_count": 25,
   "metadata": {
    "collapsed": false
   },
   "outputs": [
    {
     "data": {
      "text/plain": [
       "23391    7500 S WOLCOTT AVE\n",
       "Name: STREET ADDRESS, dtype: object"
      ]
     },
     "execution_count": 25,
     "metadata": {},
     "output_type": "execute_result"
    }
   ],
   "source": [
    "df3['STREET ADDRESS'][df3['STREET ADDRESS'] == '7500 S WOLCOTT AVE'] # one complaint"
   ]
  },
  {
   "cell_type": "code",
   "execution_count": 28,
   "metadata": {
    "collapsed": false
   },
   "outputs": [
    {
     "data": {
      "text/plain": [
       "4296    7500 S WOLCOTT AVE\n",
       "Name: Street Address, dtype: object"
      ]
     },
     "execution_count": 28,
     "metadata": {},
     "output_type": "execute_result"
    }
   ],
   "source": [
    "df4['Street Address'][df4['Street Address'] == '7500 S WOLCOTT AVE'] # one complaint"
   ]
  },
  {
   "cell_type": "markdown",
   "metadata": {},
   "source": [
    "Based on the above analysis conducted on data only from the past year,\n",
    "it shows that only one complaint regarding Pot Holes and Sanitation came from the address \"7500 S WOLCOTT AVE\".\n",
    "Thus the probability that a complaint from this address will come regarding Pot Holes and Sanitation is 0.5 each.\n",
    "The probability that a complaint from this address will come regarding Vacant Houses and Graffiti is zero (0)."
   ]
  },
  {
   "cell_type": "markdown",
   "metadata": {},
   "source": [
    "Question 3(b)"
   ]
  },
  {
   "cell_type": "code",
   "execution_count": 79,
   "metadata": {
    "collapsed": false
   },
   "outputs": [
    {
     "data": {
      "text/plain": [
       "617"
      ]
     },
     "execution_count": 79,
     "metadata": {},
     "output_type": "execute_result"
    }
   ],
   "source": [
    "lawndale_count = df2[df2['Street Address'].str.contains(\"LAWNDALE\")]\n",
    "lawndale_count['Street Address'].count()"
   ]
  },
  {
   "cell_type": "code",
   "execution_count": 97,
   "metadata": {
    "collapsed": false
   },
   "outputs": [
    {
     "data": {
      "text/plain": [
       "4395"
      ]
     },
     "execution_count": 97,
     "metadata": {},
     "output_type": "execute_result"
    }
   ],
   "source": [
    "#From Wikipedia: Uptown tows include: Foster Avenue, Lake Michigan, Montrose, Irving Park, Clark, Ravenswood\n",
    "uptown_count = df2[df2['Street Address'].str.contains(\"FOSTER AVE|MONTROSE|IRVING PARK|CLARK|RAVENSWOOD\")==True] # source: stackoverflow\n",
    "uptown_count['Street Address'].count()"
   ]
  },
  {
   "cell_type": "markdown",
   "metadata": {},
   "source": [
    "If a given complaint regarding Graffiti is from Lawndale, its probability is 617/(617+4395)=0.123.\n",
    "If a given complaint regarding Graffiti is from Uptown, its probability is 4395/(617+4395)=0.877."
   ]
  },
  {
   "cell_type": "markdown",
   "metadata": {},
   "source": [
    "Question 3(c)"
   ]
  },
  {
   "cell_type": "markdown",
   "metadata": {},
   "source": [
    "Total Graffiti calls = 100 (Englewood) + 160 (Uptown) = 260.\n",
    "Probability that the call came from Englewood = 100/260 = 0.385\n",
    "Probability that the call came from Uptown = 160/260 = 0.615\n",
    "\n",
    "It is about twice as likely that the call came from Uptown (0.615) than from Englewood (0.385)."
   ]
  }
 ],
 "metadata": {
  "kernelspec": {
   "display_name": "Python 3",
   "language": "python",
   "name": "python3"
  },
  "language_info": {
   "codemirror_mode": {
    "name": "ipython",
    "version": 3
   },
   "file_extension": ".py",
   "mimetype": "text/x-python",
   "name": "python",
   "nbconvert_exporter": "python",
   "pygments_lexer": "ipython3",
   "version": "3.6.0"
  }
 },
 "nbformat": 4,
 "nbformat_minor": 2
}
