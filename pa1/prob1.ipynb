{
 "cells": [
  {
   "cell_type": "code",
   "execution_count": 10,
   "metadata": {
    "collapsed": false
   },
   "outputs": [],
   "source": [
    "import pandas as pd\n",
    "import geocoder\n",
    "import seaborn as sn"
   ]
  },
  {
   "cell_type": "code",
   "execution_count": 11,
   "metadata": {
    "collapsed": true
   },
   "outputs": [],
   "source": [
    "filename1 = 'Data/311_Service_Requests_-_Vacant_and_Abandoned_Buildings_Reported'\n",
    "filename2 = 'Data/311_Service_Requests_-_Graffiti_Removal'\n",
    "filename3 = 'Data/311_Service_Requests_-_Pot_Holes_Reported'\n",
    "filename4 = 'Data/311_Service_Requests_-_Sanitation_Code_Complaints'"
   ]
  },
  {
   "cell_type": "code",
   "execution_count": 12,
   "metadata": {
    "collapsed": false
   },
   "outputs": [],
   "source": [
    "df2 = pd.read_csv(filename2 + '.csv', encoding = \"ISO-8859-1\", nrows=100)"
   ]
  },
  {
   "cell_type": "code",
   "execution_count": 13,
   "metadata": {
    "collapsed": false
   },
   "outputs": [
    {
     "data": {
      "text/html": [
       "<div>\n",
       "<table border=\"1\" class=\"dataframe\">\n",
       "  <thead>\n",
       "    <tr style=\"text-align: right;\">\n",
       "      <th></th>\n",
       "      <th>Creation Date</th>\n",
       "      <th>Status</th>\n",
       "      <th>Completion Date</th>\n",
       "      <th>Service Request Number</th>\n",
       "      <th>Type of Service Request</th>\n",
       "      <th>What Type of Surface is the Graffiti on?</th>\n",
       "      <th>Where is the Graffiti located?</th>\n",
       "      <th>Street Address</th>\n",
       "      <th>ZIP Code</th>\n",
       "      <th>X Coordinate</th>\n",
       "      <th>Y Coordinate</th>\n",
       "      <th>Ward</th>\n",
       "      <th>Police District</th>\n",
       "      <th>Community Area</th>\n",
       "      <th>SSA</th>\n",
       "      <th>Latitude</th>\n",
       "      <th>Longitude</th>\n",
       "      <th>Location</th>\n",
       "    </tr>\n",
       "  </thead>\n",
       "  <tbody>\n",
       "    <tr>\n",
       "      <th>0</th>\n",
       "      <td>01/01/2016</td>\n",
       "      <td>Completed</td>\n",
       "      <td>01/04/2016</td>\n",
       "      <td>16-00001120</td>\n",
       "      <td>Graffiti Removal</td>\n",
       "      <td>Brick - Unpainted</td>\n",
       "      <td>Front</td>\n",
       "      <td>4002 W BELDEN AVE</td>\n",
       "      <td>60639</td>\n",
       "      <td>1.149326e+06</td>\n",
       "      <td>1.914986e+06</td>\n",
       "      <td>35</td>\n",
       "      <td>25</td>\n",
       "      <td>20</td>\n",
       "      <td>NaN</td>\n",
       "      <td>41.922754</td>\n",
       "      <td>-87.726920</td>\n",
       "      <td>(41.92275371369149, -87.72691963120627)</td>\n",
       "    </tr>\n",
       "    <tr>\n",
       "      <th>1</th>\n",
       "      <td>01/01/2016</td>\n",
       "      <td>Completed</td>\n",
       "      <td>01/04/2016</td>\n",
       "      <td>16-00001753</td>\n",
       "      <td>Graffiti Removal</td>\n",
       "      <td>Brick - Unpainted</td>\n",
       "      <td>Alley</td>\n",
       "      <td>3324 W SCHUBERT AVE</td>\n",
       "      <td>60647</td>\n",
       "      <td>1.153530e+06</td>\n",
       "      <td>1.917756e+06</td>\n",
       "      <td>35</td>\n",
       "      <td>14</td>\n",
       "      <td>22</td>\n",
       "      <td>NaN</td>\n",
       "      <td>41.930270</td>\n",
       "      <td>-87.711830</td>\n",
       "      <td>(41.93027022573564, -87.7118303754877)</td>\n",
       "    </tr>\n",
       "    <tr>\n",
       "      <th>2</th>\n",
       "      <td>01/01/2016</td>\n",
       "      <td>Completed</td>\n",
       "      <td>01/04/2016</td>\n",
       "      <td>16-00002928</td>\n",
       "      <td>Graffiti Removal</td>\n",
       "      <td>Brick - Unpainted</td>\n",
       "      <td>Side</td>\n",
       "      <td>3700 S ARCHER AVE</td>\n",
       "      <td>60632</td>\n",
       "      <td>1.161132e+06</td>\n",
       "      <td>1.879956e+06</td>\n",
       "      <td>12</td>\n",
       "      <td>9</td>\n",
       "      <td>59</td>\n",
       "      <td>NaN</td>\n",
       "      <td>41.826349</td>\n",
       "      <td>-87.684472</td>\n",
       "      <td>(41.82634906722627, -87.68447240074919)</td>\n",
       "    </tr>\n",
       "    <tr>\n",
       "      <th>3</th>\n",
       "      <td>01/01/2016</td>\n",
       "      <td>Completed</td>\n",
       "      <td>01/04/2016</td>\n",
       "      <td>16-00003519</td>\n",
       "      <td>Graffiti Removal</td>\n",
       "      <td>Metal - Painted</td>\n",
       "      <td>Front</td>\n",
       "      <td>1503 W MORSE AVE</td>\n",
       "      <td>60626</td>\n",
       "      <td>1.165094e+06</td>\n",
       "      <td>1.946162e+06</td>\n",
       "      <td>49</td>\n",
       "      <td>24</td>\n",
       "      <td>1</td>\n",
       "      <td>24.0</td>\n",
       "      <td>42.007761</td>\n",
       "      <td>-87.668046</td>\n",
       "      <td>(42.00776133839233, -87.66804558302428)</td>\n",
       "    </tr>\n",
       "    <tr>\n",
       "      <th>4</th>\n",
       "      <td>01/01/2016</td>\n",
       "      <td>Completed</td>\n",
       "      <td>01/04/2016</td>\n",
       "      <td>16-00003521</td>\n",
       "      <td>Graffiti Removal</td>\n",
       "      <td>Metal - Painted</td>\n",
       "      <td>Front</td>\n",
       "      <td>1447 W MORSE AVE</td>\n",
       "      <td>60626</td>\n",
       "      <td>1.165368e+06</td>\n",
       "      <td>1.946171e+06</td>\n",
       "      <td>49</td>\n",
       "      <td>24</td>\n",
       "      <td>1</td>\n",
       "      <td>24.0</td>\n",
       "      <td>42.007765</td>\n",
       "      <td>-87.667774</td>\n",
       "      <td>(42.00776549837537, -87.66777445467486)</td>\n",
       "    </tr>\n",
       "  </tbody>\n",
       "</table>\n",
       "</div>"
      ],
      "text/plain": [
       "  Creation Date     Status Completion Date Service Request Number  \\\n",
       "0    01/01/2016  Completed      01/04/2016            16-00001120   \n",
       "1    01/01/2016  Completed      01/04/2016            16-00001753   \n",
       "2    01/01/2016  Completed      01/04/2016            16-00002928   \n",
       "3    01/01/2016  Completed      01/04/2016            16-00003519   \n",
       "4    01/01/2016  Completed      01/04/2016            16-00003521   \n",
       "\n",
       "  Type of Service Request What Type of Surface is the Graffiti on?  \\\n",
       "0        Graffiti Removal                        Brick - Unpainted   \n",
       "1        Graffiti Removal                        Brick - Unpainted   \n",
       "2        Graffiti Removal                        Brick - Unpainted   \n",
       "3        Graffiti Removal                          Metal - Painted   \n",
       "4        Graffiti Removal                          Metal - Painted   \n",
       "\n",
       "  Where is the Graffiti located?       Street Address  ZIP Code  X Coordinate  \\\n",
       "0                          Front    4002 W BELDEN AVE     60639  1.149326e+06   \n",
       "1                          Alley  3324 W SCHUBERT AVE     60647  1.153530e+06   \n",
       "2                           Side    3700 S ARCHER AVE     60632  1.161132e+06   \n",
       "3                          Front     1503 W MORSE AVE     60626  1.165094e+06   \n",
       "4                          Front     1447 W MORSE AVE     60626  1.165368e+06   \n",
       "\n",
       "   Y Coordinate  Ward  Police District  Community Area   SSA   Latitude  \\\n",
       "0  1.914986e+06    35               25              20   NaN  41.922754   \n",
       "1  1.917756e+06    35               14              22   NaN  41.930270   \n",
       "2  1.879956e+06    12                9              59   NaN  41.826349   \n",
       "3  1.946162e+06    49               24               1  24.0  42.007761   \n",
       "4  1.946171e+06    49               24               1  24.0  42.007765   \n",
       "\n",
       "   Longitude                                 Location  \n",
       "0 -87.726920  (41.92275371369149, -87.72691963120627)  \n",
       "1 -87.711830   (41.93027022573564, -87.7118303754877)  \n",
       "2 -87.684472  (41.82634906722627, -87.68447240074919)  \n",
       "3 -87.668046  (42.00776133839233, -87.66804558302428)  \n",
       "4 -87.667774  (42.00776549837537, -87.66777445467486)  "
      ]
     },
     "execution_count": 13,
     "metadata": {},
     "output_type": "execute_result"
    }
   ],
   "source": [
    "df2.head()"
   ]
  },
  {
   "cell_type": "code",
   "execution_count": 388,
   "metadata": {
    "collapsed": false
   },
   "outputs": [
    {
     "data": {
      "text/html": [
       "<div>\n",
       "<table border=\"1\" class=\"dataframe\">\n",
       "  <thead>\n",
       "    <tr style=\"text-align: right;\">\n",
       "      <th></th>\n",
       "      <th>index</th>\n",
       "      <th>ZIP Code</th>\n",
       "    </tr>\n",
       "  </thead>\n",
       "  <tbody>\n",
       "    <tr>\n",
       "      <th>0</th>\n",
       "      <td>60647</td>\n",
       "      <td>15</td>\n",
       "    </tr>\n",
       "    <tr>\n",
       "      <th>1</th>\n",
       "      <td>60639</td>\n",
       "      <td>9</td>\n",
       "    </tr>\n",
       "    <tr>\n",
       "      <th>2</th>\n",
       "      <td>60609</td>\n",
       "      <td>9</td>\n",
       "    </tr>\n",
       "    <tr>\n",
       "      <th>3</th>\n",
       "      <td>60618</td>\n",
       "      <td>9</td>\n",
       "    </tr>\n",
       "    <tr>\n",
       "      <th>4</th>\n",
       "      <td>60632</td>\n",
       "      <td>8</td>\n",
       "    </tr>\n",
       "    <tr>\n",
       "      <th>5</th>\n",
       "      <td>60608</td>\n",
       "      <td>7</td>\n",
       "    </tr>\n",
       "    <tr>\n",
       "      <th>6</th>\n",
       "      <td>60617</td>\n",
       "      <td>5</td>\n",
       "    </tr>\n",
       "    <tr>\n",
       "      <th>7</th>\n",
       "      <td>60638</td>\n",
       "      <td>4</td>\n",
       "    </tr>\n",
       "    <tr>\n",
       "      <th>8</th>\n",
       "      <td>60626</td>\n",
       "      <td>4</td>\n",
       "    </tr>\n",
       "    <tr>\n",
       "      <th>9</th>\n",
       "      <td>60625</td>\n",
       "      <td>4</td>\n",
       "    </tr>\n",
       "    <tr>\n",
       "      <th>10</th>\n",
       "      <td>60611</td>\n",
       "      <td>3</td>\n",
       "    </tr>\n",
       "    <tr>\n",
       "      <th>11</th>\n",
       "      <td>60612</td>\n",
       "      <td>3</td>\n",
       "    </tr>\n",
       "    <tr>\n",
       "      <th>12</th>\n",
       "      <td>60616</td>\n",
       "      <td>3</td>\n",
       "    </tr>\n",
       "    <tr>\n",
       "      <th>13</th>\n",
       "      <td>60660</td>\n",
       "      <td>2</td>\n",
       "    </tr>\n",
       "    <tr>\n",
       "      <th>14</th>\n",
       "      <td>60613</td>\n",
       "      <td>2</td>\n",
       "    </tr>\n",
       "    <tr>\n",
       "      <th>15</th>\n",
       "      <td>60623</td>\n",
       "      <td>2</td>\n",
       "    </tr>\n",
       "    <tr>\n",
       "      <th>16</th>\n",
       "      <td>60630</td>\n",
       "      <td>2</td>\n",
       "    </tr>\n",
       "    <tr>\n",
       "      <th>17</th>\n",
       "      <td>60641</td>\n",
       "      <td>2</td>\n",
       "    </tr>\n",
       "    <tr>\n",
       "      <th>18</th>\n",
       "      <td>60622</td>\n",
       "      <td>1</td>\n",
       "    </tr>\n",
       "    <tr>\n",
       "      <th>19</th>\n",
       "      <td>60614</td>\n",
       "      <td>1</td>\n",
       "    </tr>\n",
       "    <tr>\n",
       "      <th>20</th>\n",
       "      <td>60651</td>\n",
       "      <td>1</td>\n",
       "    </tr>\n",
       "    <tr>\n",
       "      <th>21</th>\n",
       "      <td>60629</td>\n",
       "      <td>1</td>\n",
       "    </tr>\n",
       "    <tr>\n",
       "      <th>22</th>\n",
       "      <td>60634</td>\n",
       "      <td>1</td>\n",
       "    </tr>\n",
       "    <tr>\n",
       "      <th>23</th>\n",
       "      <td>60607</td>\n",
       "      <td>1</td>\n",
       "    </tr>\n",
       "    <tr>\n",
       "      <th>24</th>\n",
       "      <td>60605</td>\n",
       "      <td>1</td>\n",
       "    </tr>\n",
       "  </tbody>\n",
       "</table>\n",
       "</div>"
      ],
      "text/plain": [
       "    index  ZIP Code\n",
       "0   60647        15\n",
       "1   60639         9\n",
       "2   60609         9\n",
       "3   60618         9\n",
       "4   60632         8\n",
       "5   60608         7\n",
       "6   60617         5\n",
       "7   60638         4\n",
       "8   60626         4\n",
       "9   60625         4\n",
       "10  60611         3\n",
       "11  60612         3\n",
       "12  60616         3\n",
       "13  60660         2\n",
       "14  60613         2\n",
       "15  60623         2\n",
       "16  60630         2\n",
       "17  60641         2\n",
       "18  60622         1\n",
       "19  60614         1\n",
       "20  60651         1\n",
       "21  60629         1\n",
       "22  60634         1\n",
       "23  60607         1\n",
       "24  60605         1"
      ]
     },
     "execution_count": 388,
     "metadata": {},
     "output_type": "execute_result"
    }
   ],
   "source": [
    "# finding out the worst neighborhoods\n",
    "df2['ZIP Code'].value_counts().reset_index()"
   ]
  },
  {
   "cell_type": "markdown",
   "metadata": {
    "collapsed": true
   },
   "source": [
    "A value count of ZIP Code shows that the ZIP Code 60647 has the highest number of graffiti requests followed by 60639 and 60609.\n"
   ]
  },
  {
   "cell_type": "code",
   "execution_count": 141,
   "metadata": {
    "collapsed": true
   },
   "outputs": [],
   "source": [
    "#geocode it to know which neighborhoods are doing the worst"
   ]
  },
  {
   "cell_type": "code",
   "execution_count": null,
   "metadata": {
    "collapsed": true
   },
   "outputs": [],
   "source": []
  },
  {
   "cell_type": "code",
   "execution_count": 46,
   "metadata": {
    "collapsed": false
   },
   "outputs": [
    {
     "data": {
      "text/plain": [
       "60647    15\n",
       "60639     9\n",
       "60609     9\n",
       "60618     9\n",
       "60632     8\n",
       "60608     7\n",
       "60617     5\n",
       "60638     4\n",
       "60626     4\n",
       "60625     4\n",
       "60611     3\n",
       "60612     3\n",
       "60616     3\n",
       "60660     2\n",
       "60613     2\n",
       "60623     2\n",
       "60630     2\n",
       "60641     2\n",
       "60622     1\n",
       "60614     1\n",
       "60651     1\n",
       "60629     1\n",
       "60634     1\n",
       "60607     1\n",
       "60605     1\n",
       "Name: ZIP Code, dtype: int64"
      ]
     },
     "execution_count": 46,
     "metadata": {},
     "output_type": "execute_result"
    }
   ],
   "source": [
    "df2['ZIP Code'].value_counts()"
   ]
  },
  {
   "cell_type": "code",
   "execution_count": 348,
   "metadata": {
    "collapsed": false
   },
   "outputs": [],
   "source": [
    "#which type of surface has high number of requests\n",
    "df_unsorted = df2['ZIP Code'].groupby(df2['What Type of Surface is the Graffiti on?']).count()"
   ]
  },
  {
   "cell_type": "code",
   "execution_count": 350,
   "metadata": {
    "collapsed": false
   },
   "outputs": [
    {
     "data": {
      "text/html": [
       "<div>\n",
       "<table border=\"1\" class=\"dataframe\">\n",
       "  <thead>\n",
       "    <tr style=\"text-align: right;\">\n",
       "      <th></th>\n",
       "      <th>What Type of Surface is the Graffiti on?</th>\n",
       "      <th>ZIP Code</th>\n",
       "    </tr>\n",
       "  </thead>\n",
       "  <tbody>\n",
       "    <tr>\n",
       "      <th>0</th>\n",
       "      <td>Brick - Unpainted</td>\n",
       "      <td>31</td>\n",
       "    </tr>\n",
       "    <tr>\n",
       "      <th>1</th>\n",
       "      <td>Metal</td>\n",
       "      <td>19</td>\n",
       "    </tr>\n",
       "    <tr>\n",
       "      <th>2</th>\n",
       "      <td>Brick - Painted</td>\n",
       "      <td>14</td>\n",
       "    </tr>\n",
       "    <tr>\n",
       "      <th>3</th>\n",
       "      <td>Aluminum Siding</td>\n",
       "      <td>12</td>\n",
       "    </tr>\n",
       "    <tr>\n",
       "      <th>4</th>\n",
       "      <td>Wood - Painted</td>\n",
       "      <td>9</td>\n",
       "    </tr>\n",
       "    <tr>\n",
       "      <th>5</th>\n",
       "      <td>Cement (Sidewalk, Alley, Wall, Curb)</td>\n",
       "      <td>6</td>\n",
       "    </tr>\n",
       "    <tr>\n",
       "      <th>6</th>\n",
       "      <td>Other / Unknown Surface</td>\n",
       "      <td>4</td>\n",
       "    </tr>\n",
       "    <tr>\n",
       "      <th>7</th>\n",
       "      <td>Vinyl Siding</td>\n",
       "      <td>2</td>\n",
       "    </tr>\n",
       "    <tr>\n",
       "      <th>8</th>\n",
       "      <td>Wood - Unpainted</td>\n",
       "      <td>1</td>\n",
       "    </tr>\n",
       "    <tr>\n",
       "      <th>9</th>\n",
       "      <td>Marble/Granite</td>\n",
       "      <td>1</td>\n",
       "    </tr>\n",
       "    <tr>\n",
       "      <th>10</th>\n",
       "      <td>Glass</td>\n",
       "      <td>1</td>\n",
       "    </tr>\n",
       "  </tbody>\n",
       "</table>\n",
       "</div>"
      ],
      "text/plain": [
       "   What Type of Surface is the Graffiti on?  ZIP Code\n",
       "0                         Brick - Unpainted        31\n",
       "1                                     Metal        19\n",
       "2                           Brick - Painted        14\n",
       "3                           Aluminum Siding        12\n",
       "4                            Wood - Painted         9\n",
       "5      Cement (Sidewalk, Alley, Wall, Curb)         6\n",
       "6                   Other / Unknown Surface         4\n",
       "7                              Vinyl Siding         2\n",
       "8                          Wood - Unpainted         1\n",
       "9                            Marble/Granite         1\n",
       "10                                    Glass         1"
      ]
     },
     "execution_count": 350,
     "metadata": {},
     "output_type": "execute_result"
    }
   ],
   "source": [
    "df_unsorted.sort_values(ascending=False).reset_index() # make the graph"
   ]
  },
  {
   "cell_type": "markdown",
   "metadata": {},
   "source": [
    "Brick - Unpainted followed by Metal and Brick - Painted are the largest types of graffiti requests that the City of Chicago has received."
   ]
  },
  {
   "cell_type": "code",
   "execution_count": 225,
   "metadata": {
    "collapsed": false
   },
   "outputs": [],
   "source": [
    "# by neighborhoods and graffti types\n",
    "d = df2.groupby(['What Type of Surface is the Graffiti on?', 'ZIP Code'])['Status'].count().reset_index()"
   ]
  },
  {
   "cell_type": "code",
   "execution_count": 237,
   "metadata": {
    "collapsed": false
   },
   "outputs": [
    {
     "name": "stderr",
     "output_type": "stream",
     "text": [
      "/anaconda/lib/python3.6/site-packages/ipykernel/__main__.py:1: FutureWarning: sort(columns=....) is deprecated, use sort_values(by=.....)\n",
      "  if __name__ == '__main__':\n"
     ]
    },
    {
     "data": {
      "text/html": [
       "<div>\n",
       "<table border=\"1\" class=\"dataframe\">\n",
       "  <thead>\n",
       "    <tr style=\"text-align: right;\">\n",
       "      <th></th>\n",
       "      <th>What Type of Surface is the Graffiti on?</th>\n",
       "      <th>ZIP Code</th>\n",
       "      <th>Status</th>\n",
       "    </tr>\n",
       "  </thead>\n",
       "  <tbody>\n",
       "    <tr>\n",
       "      <th>10</th>\n",
       "      <td>Brick - Painted</td>\n",
       "      <td>60609</td>\n",
       "      <td>5</td>\n",
       "    </tr>\n",
       "    <tr>\n",
       "      <th>48</th>\n",
       "      <td>Metal</td>\n",
       "      <td>60647</td>\n",
       "      <td>4</td>\n",
       "    </tr>\n",
       "    <tr>\n",
       "      <th>24</th>\n",
       "      <td>Brick - Unpainted</td>\n",
       "      <td>60625</td>\n",
       "      <td>4</td>\n",
       "    </tr>\n",
       "    <tr>\n",
       "      <th>7</th>\n",
       "      <td>Aluminum Siding</td>\n",
       "      <td>60647</td>\n",
       "      <td>3</td>\n",
       "    </tr>\n",
       "    <tr>\n",
       "      <th>15</th>\n",
       "      <td>Brick - Painted</td>\n",
       "      <td>60647</td>\n",
       "      <td>3</td>\n",
       "    </tr>\n",
       "    <tr>\n",
       "      <th>35</th>\n",
       "      <td>Cement (Sidewalk, Alley, Wall, Curb)</td>\n",
       "      <td>60647</td>\n",
       "      <td>3</td>\n",
       "    </tr>\n",
       "    <tr>\n",
       "      <th>30</th>\n",
       "      <td>Brick - Unpainted</td>\n",
       "      <td>60639</td>\n",
       "      <td>3</td>\n",
       "    </tr>\n",
       "    <tr>\n",
       "      <th>25</th>\n",
       "      <td>Brick - Unpainted</td>\n",
       "      <td>60626</td>\n",
       "      <td>3</td>\n",
       "    </tr>\n",
       "    <tr>\n",
       "      <th>22</th>\n",
       "      <td>Brick - Unpainted</td>\n",
       "      <td>60618</td>\n",
       "      <td>3</td>\n",
       "    </tr>\n",
       "    <tr>\n",
       "      <th>16</th>\n",
       "      <td>Brick - Unpainted</td>\n",
       "      <td>60609</td>\n",
       "      <td>3</td>\n",
       "    </tr>\n",
       "  </tbody>\n",
       "</table>\n",
       "</div>"
      ],
      "text/plain": [
       "   What Type of Surface is the Graffiti on?  ZIP Code  Status\n",
       "10                          Brick - Painted     60609       5\n",
       "48                                    Metal     60647       4\n",
       "24                        Brick - Unpainted     60625       4\n",
       "7                           Aluminum Siding     60647       3\n",
       "15                          Brick - Painted     60647       3\n",
       "35     Cement (Sidewalk, Alley, Wall, Curb)     60647       3\n",
       "30                        Brick - Unpainted     60639       3\n",
       "25                        Brick - Unpainted     60626       3\n",
       "22                        Brick - Unpainted     60618       3\n",
       "16                        Brick - Unpainted     60609       3"
      ]
     },
     "execution_count": 237,
     "metadata": {},
     "output_type": "execute_result"
    }
   ],
   "source": [
    "d.sort(['Status', 'ZIP Code'], ascending=False)[:10] # analysis pending"
   ]
  },
  {
   "cell_type": "code",
   "execution_count": 238,
   "metadata": {
    "collapsed": true
   },
   "outputs": [],
   "source": [
    "# caclulating response times"
   ]
  },
  {
   "cell_type": "code",
   "execution_count": 259,
   "metadata": {
    "collapsed": false
   },
   "outputs": [],
   "source": [
    "df2['Creation Date'] = df2['Creation Date'].apply(pd.to_datetime)"
   ]
  },
  {
   "cell_type": "code",
   "execution_count": 263,
   "metadata": {
    "collapsed": false
   },
   "outputs": [],
   "source": [
    "df2['Completion Date'] = df2['Completion Date'].apply(pd.to_datetime)"
   ]
  },
  {
   "cell_type": "code",
   "execution_count": 358,
   "metadata": {
    "collapsed": false
   },
   "outputs": [],
   "source": [
    "df2['Response Time'] = abs(df2['Creation Date'] - df2['Completion Date'])"
   ]
  },
  {
   "cell_type": "code",
   "execution_count": 363,
   "metadata": {
    "collapsed": false
   },
   "outputs": [],
   "source": [
    "df2['Response Time'] = df2['Response Time'].astype(pd.Timedelta).apply(lambda l: l.days)"
   ]
  },
  {
   "cell_type": "code",
   "execution_count": 368,
   "metadata": {
    "collapsed": false
   },
   "outputs": [],
   "source": [
    "response_time_grouped = df2['Response Time'].groupby(df2['ZIP Code']).mean().reset_index()"
   ]
  },
  {
   "cell_type": "code",
   "execution_count": 369,
   "metadata": {
    "collapsed": false
   },
   "outputs": [
    {
     "data": {
      "text/html": [
       "<div>\n",
       "<table border=\"1\" class=\"dataframe\">\n",
       "  <thead>\n",
       "    <tr style=\"text-align: right;\">\n",
       "      <th></th>\n",
       "      <th>ZIP Code</th>\n",
       "      <th>Response Time</th>\n",
       "    </tr>\n",
       "  </thead>\n",
       "  <tbody>\n",
       "    <tr>\n",
       "      <th>14</th>\n",
       "      <td>60626</td>\n",
       "      <td>12.250000</td>\n",
       "    </tr>\n",
       "    <tr>\n",
       "      <th>7</th>\n",
       "      <td>60614</td>\n",
       "      <td>9.000000</td>\n",
       "    </tr>\n",
       "    <tr>\n",
       "      <th>22</th>\n",
       "      <td>60647</td>\n",
       "      <td>7.333333</td>\n",
       "    </tr>\n",
       "    <tr>\n",
       "      <th>2</th>\n",
       "      <td>60608</td>\n",
       "      <td>7.285714</td>\n",
       "    </tr>\n",
       "    <tr>\n",
       "      <th>12</th>\n",
       "      <td>60623</td>\n",
       "      <td>6.500000</td>\n",
       "    </tr>\n",
       "    <tr>\n",
       "      <th>5</th>\n",
       "      <td>60612</td>\n",
       "      <td>6.000000</td>\n",
       "    </tr>\n",
       "    <tr>\n",
       "      <th>20</th>\n",
       "      <td>60639</td>\n",
       "      <td>4.444444</td>\n",
       "    </tr>\n",
       "    <tr>\n",
       "      <th>9</th>\n",
       "      <td>60617</td>\n",
       "      <td>4.400000</td>\n",
       "    </tr>\n",
       "    <tr>\n",
       "      <th>17</th>\n",
       "      <td>60632</td>\n",
       "      <td>4.375000</td>\n",
       "    </tr>\n",
       "    <tr>\n",
       "      <th>19</th>\n",
       "      <td>60638</td>\n",
       "      <td>4.000000</td>\n",
       "    </tr>\n",
       "  </tbody>\n",
       "</table>\n",
       "</div>"
      ],
      "text/plain": [
       "    ZIP Code  Response Time\n",
       "14     60626      12.250000\n",
       "7      60614       9.000000\n",
       "22     60647       7.333333\n",
       "2      60608       7.285714\n",
       "12     60623       6.500000\n",
       "5      60612       6.000000\n",
       "20     60639       4.444444\n",
       "9      60617       4.400000\n",
       "17     60632       4.375000\n",
       "19     60638       4.000000"
      ]
     },
     "execution_count": 369,
     "metadata": {},
     "output_type": "execute_result"
    }
   ],
   "source": [
    "response_time_grouped.sort_values('Response Time', ascending=False)[:10]"
   ]
  },
  {
   "cell_type": "markdown",
   "metadata": {},
   "source": [
    "This table shows that the ZIP Codes of 60647 and 60608 have had requests with a very high mean response time. Finding those ZIP codes:"
   ]
  },
  {
   "cell_type": "code",
   "execution_count": 372,
   "metadata": {
    "collapsed": false
   },
   "outputs": [
    {
     "data": {
      "text/plain": [
       "(<[OK] Google - Reverse [13200 S Langley Ave, Chicago, IL 60827, USA]>,\n",
       " <[OK] Google - Reverse [1400 W Armitage Ave, Chicago, IL 60614, USA]>,\n",
       " <[OK] Google - Reverse [2251-2287 S Blue Island Ave, Chicago, IL 60608, USA]>)"
      ]
     },
     "execution_count": 372,
     "metadata": {},
     "output_type": "execute_result"
    }
   ],
   "source": [
    "geocoder.google('60627', method='reverse'), geocoder.google('60614', method='reverse'), geocoder.google('60608', method='reverse')"
   ]
  },
  {
   "cell_type": "code",
   "execution_count": 371,
   "metadata": {
    "collapsed": false
   },
   "outputs": [
    {
     "data": {
      "text/html": [
       "<div>\n",
       "<table border=\"1\" class=\"dataframe\">\n",
       "  <thead>\n",
       "    <tr style=\"text-align: right;\">\n",
       "      <th></th>\n",
       "      <th>ZIP Code</th>\n",
       "      <th>Response Time</th>\n",
       "    </tr>\n",
       "  </thead>\n",
       "  <tbody>\n",
       "    <tr>\n",
       "      <th>23</th>\n",
       "      <td>60651</td>\n",
       "      <td>2.000000</td>\n",
       "    </tr>\n",
       "    <tr>\n",
       "      <th>11</th>\n",
       "      <td>60622</td>\n",
       "      <td>2.000000</td>\n",
       "    </tr>\n",
       "    <tr>\n",
       "      <th>21</th>\n",
       "      <td>60641</td>\n",
       "      <td>2.500000</td>\n",
       "    </tr>\n",
       "    <tr>\n",
       "      <th>3</th>\n",
       "      <td>60609</td>\n",
       "      <td>2.666667</td>\n",
       "    </tr>\n",
       "    <tr>\n",
       "      <th>0</th>\n",
       "      <td>60605</td>\n",
       "      <td>3.000000</td>\n",
       "    </tr>\n",
       "    <tr>\n",
       "      <th>16</th>\n",
       "      <td>60630</td>\n",
       "      <td>3.000000</td>\n",
       "    </tr>\n",
       "    <tr>\n",
       "      <th>15</th>\n",
       "      <td>60629</td>\n",
       "      <td>3.000000</td>\n",
       "    </tr>\n",
       "    <tr>\n",
       "      <th>13</th>\n",
       "      <td>60625</td>\n",
       "      <td>3.000000</td>\n",
       "    </tr>\n",
       "    <tr>\n",
       "      <th>24</th>\n",
       "      <td>60660</td>\n",
       "      <td>3.000000</td>\n",
       "    </tr>\n",
       "    <tr>\n",
       "      <th>6</th>\n",
       "      <td>60613</td>\n",
       "      <td>3.000000</td>\n",
       "    </tr>\n",
       "  </tbody>\n",
       "</table>\n",
       "</div>"
      ],
      "text/plain": [
       "    ZIP Code  Response Time\n",
       "23     60651       2.000000\n",
       "11     60622       2.000000\n",
       "21     60641       2.500000\n",
       "3      60609       2.666667\n",
       "0      60605       3.000000\n",
       "16     60630       3.000000\n",
       "15     60629       3.000000\n",
       "13     60625       3.000000\n",
       "24     60660       3.000000\n",
       "6      60613       3.000000"
      ]
     },
     "execution_count": 371,
     "metadata": {},
     "output_type": "execute_result"
    }
   ],
   "source": [
    "response_time_grouped.sort_values('Response Time', ascending=True)[:10]"
   ]
  },
  {
   "cell_type": "code",
   "execution_count": 373,
   "metadata": {
    "collapsed": false
   },
   "outputs": [
    {
     "data": {
      "text/plain": [
       "(<[OK] Google - Reverse [1019 N Kedvale Ave, Chicago, IL 60651, USA]>,\n",
       " <[OK] Google - Reverse [1300 W Thomas St, Chicago, IL 60642, USA]>)"
      ]
     },
     "execution_count": 373,
     "metadata": {},
     "output_type": "execute_result"
    }
   ],
   "source": [
    "geocoder.google('60651', method='reverse'), geocoder.google('60622', method='reverse')"
   ]
  },
  {
   "cell_type": "code",
   "execution_count": 392,
   "metadata": {
    "collapsed": false
   },
   "outputs": [],
   "source": [
    "grouped_police_RT = df2[['Response Time', 'Latitude', 'Longitude']].groupby(df2['Police District']).mean().reset_index()"
   ]
  },
  {
   "cell_type": "code",
   "execution_count": 393,
   "metadata": {
    "collapsed": false
   },
   "outputs": [
    {
     "data": {
      "text/html": [
       "<div>\n",
       "<table border=\"1\" class=\"dataframe\">\n",
       "  <thead>\n",
       "    <tr style=\"text-align: right;\">\n",
       "      <th></th>\n",
       "      <th>Police District</th>\n",
       "      <th>Response Time</th>\n",
       "      <th>Latitude</th>\n",
       "      <th>Longitude</th>\n",
       "    </tr>\n",
       "  </thead>\n",
       "  <tbody>\n",
       "    <tr>\n",
       "      <th>15</th>\n",
       "      <td>24</td>\n",
       "      <td>12.250000</td>\n",
       "      <td>42.015910</td>\n",
       "      <td>-87.671518</td>\n",
       "    </tr>\n",
       "    <tr>\n",
       "      <th>4</th>\n",
       "      <td>10</td>\n",
       "      <td>10.333333</td>\n",
       "      <td>41.848338</td>\n",
       "      <td>-87.711672</td>\n",
       "    </tr>\n",
       "    <tr>\n",
       "      <th>7</th>\n",
       "      <td>13</td>\n",
       "      <td>10.000000</td>\n",
       "      <td>41.884257</td>\n",
       "      <td>-87.693259</td>\n",
       "    </tr>\n",
       "    <tr>\n",
       "      <th>8</th>\n",
       "      <td>14</td>\n",
       "      <td>7.500000</td>\n",
       "      <td>41.919214</td>\n",
       "      <td>-87.702266</td>\n",
       "    </tr>\n",
       "    <tr>\n",
       "      <th>5</th>\n",
       "      <td>11</td>\n",
       "      <td>5.000000</td>\n",
       "      <td>41.874839</td>\n",
       "      <td>-87.690666</td>\n",
       "    </tr>\n",
       "    <tr>\n",
       "      <th>1</th>\n",
       "      <td>4</td>\n",
       "      <td>4.400000</td>\n",
       "      <td>41.712070</td>\n",
       "      <td>-87.545571</td>\n",
       "    </tr>\n",
       "    <tr>\n",
       "      <th>16</th>\n",
       "      <td>25</td>\n",
       "      <td>4.181818</td>\n",
       "      <td>41.920955</td>\n",
       "      <td>-87.755296</td>\n",
       "    </tr>\n",
       "    <tr>\n",
       "      <th>2</th>\n",
       "      <td>8</td>\n",
       "      <td>4.166667</td>\n",
       "      <td>41.801062</td>\n",
       "      <td>-87.736751</td>\n",
       "    </tr>\n",
       "    <tr>\n",
       "      <th>3</th>\n",
       "      <td>9</td>\n",
       "      <td>3.705882</td>\n",
       "      <td>41.828650</td>\n",
       "      <td>-87.660138</td>\n",
       "    </tr>\n",
       "    <tr>\n",
       "      <th>10</th>\n",
       "      <td>17</td>\n",
       "      <td>3.666667</td>\n",
       "      <td>41.961473</td>\n",
       "      <td>-87.720803</td>\n",
       "    </tr>\n",
       "    <tr>\n",
       "      <th>12</th>\n",
       "      <td>19</td>\n",
       "      <td>3.500000</td>\n",
       "      <td>41.940104</td>\n",
       "      <td>-87.677930</td>\n",
       "    </tr>\n",
       "    <tr>\n",
       "      <th>11</th>\n",
       "      <td>18</td>\n",
       "      <td>3.333333</td>\n",
       "      <td>41.891948</td>\n",
       "      <td>-87.626716</td>\n",
       "    </tr>\n",
       "    <tr>\n",
       "      <th>6</th>\n",
       "      <td>12</td>\n",
       "      <td>3.250000</td>\n",
       "      <td>41.864704</td>\n",
       "      <td>-87.671061</td>\n",
       "    </tr>\n",
       "    <tr>\n",
       "      <th>9</th>\n",
       "      <td>16</td>\n",
       "      <td>3.000000</td>\n",
       "      <td>41.955491</td>\n",
       "      <td>-87.771615</td>\n",
       "    </tr>\n",
       "    <tr>\n",
       "      <th>13</th>\n",
       "      <td>20</td>\n",
       "      <td>3.000000</td>\n",
       "      <td>41.988905</td>\n",
       "      <td>-87.664397</td>\n",
       "    </tr>\n",
       "    <tr>\n",
       "      <th>0</th>\n",
       "      <td>1</td>\n",
       "      <td>3.000000</td>\n",
       "      <td>41.876828</td>\n",
       "      <td>-87.627555</td>\n",
       "    </tr>\n",
       "    <tr>\n",
       "      <th>14</th>\n",
       "      <td>23</td>\n",
       "      <td>2.000000</td>\n",
       "      <td>41.958176</td>\n",
       "      <td>-87.656376</td>\n",
       "    </tr>\n",
       "  </tbody>\n",
       "</table>\n",
       "</div>"
      ],
      "text/plain": [
       "    Police District  Response Time   Latitude  Longitude\n",
       "15               24      12.250000  42.015910 -87.671518\n",
       "4                10      10.333333  41.848338 -87.711672\n",
       "7                13      10.000000  41.884257 -87.693259\n",
       "8                14       7.500000  41.919214 -87.702266\n",
       "5                11       5.000000  41.874839 -87.690666\n",
       "1                 4       4.400000  41.712070 -87.545571\n",
       "16               25       4.181818  41.920955 -87.755296\n",
       "2                 8       4.166667  41.801062 -87.736751\n",
       "3                 9       3.705882  41.828650 -87.660138\n",
       "10               17       3.666667  41.961473 -87.720803\n",
       "12               19       3.500000  41.940104 -87.677930\n",
       "11               18       3.333333  41.891948 -87.626716\n",
       "6                12       3.250000  41.864704 -87.671061\n",
       "9                16       3.000000  41.955491 -87.771615\n",
       "13               20       3.000000  41.988905 -87.664397\n",
       "0                 1       3.000000  41.876828 -87.627555\n",
       "14               23       2.000000  41.958176 -87.656376"
      ]
     },
     "execution_count": 393,
     "metadata": {},
     "output_type": "execute_result"
    }
   ],
   "source": [
    "grouped_police_RT.sort_values('Response Time', ascending=False)"
   ]
  },
  {
   "cell_type": "markdown",
   "metadata": {},
   "source": [
    "Police districts number 24, 10 and 13 have a high mean response time i.e. these police districts take a much higher time relatively to respond to grafiti requests"
   ]
  },
  {
   "cell_type": "code",
   "execution_count": 15,
   "metadata": {
    "collapsed": false
   },
   "outputs": [
    {
     "data": {
      "text/plain": [
       "<[OK] Google - Reverse [1542 W Sherwin Ave, Chicago, IL 60626, USA]>"
      ]
     },
     "execution_count": 15,
     "metadata": {},
     "output_type": "execute_result"
    }
   ],
   "source": [
    "# lat, long of police district 24\n",
    "geocoder.google(['42.015', '-87.67'], method='reverse')"
   ]
  },
  {
   "cell_type": "code",
   "execution_count": null,
   "metadata": {
    "collapsed": true
   },
   "outputs": [],
   "source": []
  }
 ],
 "metadata": {
  "kernelspec": {
   "display_name": "Python 3",
   "language": "python",
   "name": "python3"
  },
  "language_info": {
   "codemirror_mode": {
    "name": "ipython",
    "version": 3
   },
   "file_extension": ".py",
   "mimetype": "text/x-python",
   "name": "python",
   "nbconvert_exporter": "python",
   "pygments_lexer": "ipython3",
   "version": "3.6.0"
  }
 },
 "nbformat": 4,
 "nbformat_minor": 2
}
