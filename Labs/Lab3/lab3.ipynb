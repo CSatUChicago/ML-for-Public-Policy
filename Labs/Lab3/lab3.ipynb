{
 "cells": [
  {
   "cell_type": "markdown",
   "metadata": {},
   "source": [
    "# KNN and decision tree classification\n",
    "In this lab, we will work with the DonorChoose.org dataset from KDD Cup 14 to predict whether a funding request is exciting or not. Keep your work organized as we will use the same data and problem in the following labs as well. "
   ]
  },
  {
   "cell_type": "markdown",
   "metadata": {},
   "source": [
    "## Download the datasets from the KDD website\n",
    "The first step is to download the dataset from [Kaggle website](http://www.kaggle.com/c/kdd-cup-2014-predicting-excitement-at-donors-choose/data). You can look at the definition of 'is exciting' as well as some explanation of the data fields in the given link. In this lab, we will use Python, Pandas, numpy and scikit-learn."
   ]
  },
  {
   "cell_type": "code",
   "execution_count": 162,
   "metadata": {
    "collapsed": true
   },
   "outputs": [],
   "source": [
    "import pandas as pd\n",
    "import pylab as pl\n",
    "import numpy as np\n",
    "import matplotlib.pyplot as plt\n",
    "%matplotlib inline"
   ]
  },
  {
   "cell_type": "markdown",
   "metadata": {},
   "source": [
    "First, check the size of the datasets:"
   ]
  },
  {
   "cell_type": "code",
   "execution_count": 163,
   "metadata": {
    "collapsed": false
   },
   "outputs": [],
   "source": [
    "# example:\n",
    "df_projects  = pd.read_csv('Data/projects.csv')\n",
    "df_outcomes  = pd.read_csv('Data/outcomes.csv')\n",
    "#df_projects.shape[0]"
   ]
  },
  {
   "cell_type": "markdown",
   "metadata": {},
   "source": [
    "The dataset contains\n",
    "- projects    :  664098  \n",
    "- resources  :  3667217\n",
    "- essays       :  664098\n",
    "- outcomes  :   619326\n",
    "- donations  :   3097989\n",
    "\n"
   ]
  },
  {
   "cell_type": "markdown",
   "metadata": {},
   "source": [
    "## plotting the data\n",
    "Plot the exciting projects based on their date. See whether there is any interesting result there."
   ]
  },
  {
   "cell_type": "code",
   "execution_count": 164,
   "metadata": {
    "collapsed": false
   },
   "outputs": [],
   "source": [
    "df_projects['date_posted'] = df_projects['date_posted'].apply(pd.to_datetime)"
   ]
  },
  {
   "cell_type": "code",
   "execution_count": 165,
   "metadata": {
    "collapsed": false
   },
   "outputs": [],
   "source": [
    "df_combined = pd.merge(df_projects, df_outcomes, on='projectid')"
   ]
  },
  {
   "cell_type": "code",
   "execution_count": 166,
   "metadata": {
    "collapsed": false
   },
   "outputs": [
    {
     "data": {
      "text/html": [
       "<div>\n",
       "<table border=\"1\" class=\"dataframe\">\n",
       "  <thead>\n",
       "    <tr style=\"text-align: right;\">\n",
       "      <th></th>\n",
       "      <th>projectid</th>\n",
       "      <th>teacher_acctid</th>\n",
       "      <th>schoolid</th>\n",
       "      <th>school_ncesid</th>\n",
       "      <th>school_latitude</th>\n",
       "      <th>school_longitude</th>\n",
       "      <th>school_city</th>\n",
       "      <th>school_state</th>\n",
       "      <th>school_zip</th>\n",
       "      <th>school_metro</th>\n",
       "      <th>...</th>\n",
       "      <th>at_least_1_teacher_referred_donor</th>\n",
       "      <th>fully_funded</th>\n",
       "      <th>at_least_1_green_donation</th>\n",
       "      <th>great_chat</th>\n",
       "      <th>three_or_more_non_teacher_referred_donors</th>\n",
       "      <th>one_non_teacher_referred_donor_giving_100_plus</th>\n",
       "      <th>donation_from_thoughtful_donor</th>\n",
       "      <th>great_messages_proportion</th>\n",
       "      <th>teacher_referred_count</th>\n",
       "      <th>non_teacher_referred_count</th>\n",
       "    </tr>\n",
       "  </thead>\n",
       "  <tbody>\n",
       "    <tr>\n",
       "      <th>0</th>\n",
       "      <td>62526d85d2a1818432d03d600969e99c</td>\n",
       "      <td>ebc7c90b6c92a069432e0714b8d93dfd</td>\n",
       "      <td>5aca9711ff0e4b37db48701f46f73036</td>\n",
       "      <td>1.713710e+11</td>\n",
       "      <td>41.972419</td>\n",
       "      <td>-88.174597</td>\n",
       "      <td>Bartlett</td>\n",
       "      <td>IL</td>\n",
       "      <td>60103</td>\n",
       "      <td>suburban</td>\n",
       "      <td>...</td>\n",
       "      <td>f</td>\n",
       "      <td>t</td>\n",
       "      <td>f</td>\n",
       "      <td>t</td>\n",
       "      <td>t</td>\n",
       "      <td>t</td>\n",
       "      <td>f</td>\n",
       "      <td>80</td>\n",
       "      <td>0</td>\n",
       "      <td>6</td>\n",
       "    </tr>\n",
       "    <tr>\n",
       "      <th>1</th>\n",
       "      <td>33d59ac771b80222ad63ef0f4ac47ade</td>\n",
       "      <td>de83b4c1f6428a15032c207c1d5e572a</td>\n",
       "      <td>d91a805b213bf74ae77b94e0de2b73ad</td>\n",
       "      <td>1.601530e+11</td>\n",
       "      <td>43.501154</td>\n",
       "      <td>-112.056780</td>\n",
       "      <td>Idaho Falls</td>\n",
       "      <td>ID</td>\n",
       "      <td>83402</td>\n",
       "      <td>urban</td>\n",
       "      <td>...</td>\n",
       "      <td>NaN</td>\n",
       "      <td>f</td>\n",
       "      <td>NaN</td>\n",
       "      <td>f</td>\n",
       "      <td>NaN</td>\n",
       "      <td>NaN</td>\n",
       "      <td>NaN</td>\n",
       "      <td>NaN</td>\n",
       "      <td>NaN</td>\n",
       "      <td>NaN</td>\n",
       "    </tr>\n",
       "    <tr>\n",
       "      <th>2</th>\n",
       "      <td>1a3aaeffc56dd2a421e37d8298024c0a</td>\n",
       "      <td>f4c9ed095b85458dcf858e25f203af00</td>\n",
       "      <td>9310d3eb447a4e46bc5fc31ed007ceac</td>\n",
       "      <td>3.302610e+11</td>\n",
       "      <td>42.888244</td>\n",
       "      <td>-71.320224</td>\n",
       "      <td>Derry</td>\n",
       "      <td>NH</td>\n",
       "      <td>3038</td>\n",
       "      <td>suburban</td>\n",
       "      <td>...</td>\n",
       "      <td>f</td>\n",
       "      <td>f</td>\n",
       "      <td>t</td>\n",
       "      <td>f</td>\n",
       "      <td>f</td>\n",
       "      <td>f</td>\n",
       "      <td>f</td>\n",
       "      <td>NaN</td>\n",
       "      <td>0</td>\n",
       "      <td>2</td>\n",
       "    </tr>\n",
       "    <tr>\n",
       "      <th>3</th>\n",
       "      <td>33aa19ee4da4c5adf47d0dfb84fab5ef</td>\n",
       "      <td>17768031eb40de8d4497dbb54df48742</td>\n",
       "      <td>9ac70da58322783f82152eecc140a812</td>\n",
       "      <td>5.103240e+11</td>\n",
       "      <td>37.476158</td>\n",
       "      <td>-77.488397</td>\n",
       "      <td>Richmond</td>\n",
       "      <td>VA</td>\n",
       "      <td>23224</td>\n",
       "      <td>urban</td>\n",
       "      <td>...</td>\n",
       "      <td>f</td>\n",
       "      <td>f</td>\n",
       "      <td>t</td>\n",
       "      <td>f</td>\n",
       "      <td>f</td>\n",
       "      <td>f</td>\n",
       "      <td>f</td>\n",
       "      <td>NaN</td>\n",
       "      <td>0</td>\n",
       "      <td>1</td>\n",
       "    </tr>\n",
       "    <tr>\n",
       "      <th>4</th>\n",
       "      <td>e31c0ea8b68f404699dfb0d39e9bc99b</td>\n",
       "      <td>0f1bc5b4700fd33383be104442660178</td>\n",
       "      <td>cb9f688cf59e3ee22a087d616ca8f5d7</td>\n",
       "      <td>1.709930e+11</td>\n",
       "      <td>41.952851</td>\n",
       "      <td>-87.650233</td>\n",
       "      <td>Chicago</td>\n",
       "      <td>IL</td>\n",
       "      <td>60613</td>\n",
       "      <td>urban</td>\n",
       "      <td>...</td>\n",
       "      <td>f</td>\n",
       "      <td>t</td>\n",
       "      <td>t</td>\n",
       "      <td>f</td>\n",
       "      <td>f</td>\n",
       "      <td>t</td>\n",
       "      <td>f</td>\n",
       "      <td>50</td>\n",
       "      <td>0</td>\n",
       "      <td>2</td>\n",
       "    </tr>\n",
       "  </tbody>\n",
       "</table>\n",
       "<p>5 rows × 46 columns</p>\n",
       "</div>"
      ],
      "text/plain": [
       "                          projectid                    teacher_acctid  \\\n",
       "0  62526d85d2a1818432d03d600969e99c  ebc7c90b6c92a069432e0714b8d93dfd   \n",
       "1  33d59ac771b80222ad63ef0f4ac47ade  de83b4c1f6428a15032c207c1d5e572a   \n",
       "2  1a3aaeffc56dd2a421e37d8298024c0a  f4c9ed095b85458dcf858e25f203af00   \n",
       "3  33aa19ee4da4c5adf47d0dfb84fab5ef  17768031eb40de8d4497dbb54df48742   \n",
       "4  e31c0ea8b68f404699dfb0d39e9bc99b  0f1bc5b4700fd33383be104442660178   \n",
       "\n",
       "                           schoolid  school_ncesid  school_latitude  \\\n",
       "0  5aca9711ff0e4b37db48701f46f73036   1.713710e+11        41.972419   \n",
       "1  d91a805b213bf74ae77b94e0de2b73ad   1.601530e+11        43.501154   \n",
       "2  9310d3eb447a4e46bc5fc31ed007ceac   3.302610e+11        42.888244   \n",
       "3  9ac70da58322783f82152eecc140a812   5.103240e+11        37.476158   \n",
       "4  cb9f688cf59e3ee22a087d616ca8f5d7   1.709930e+11        41.952851   \n",
       "\n",
       "   school_longitude  school_city school_state  school_zip school_metro  \\\n",
       "0        -88.174597     Bartlett           IL       60103     suburban   \n",
       "1       -112.056780  Idaho Falls           ID       83402        urban   \n",
       "2        -71.320224        Derry           NH        3038     suburban   \n",
       "3        -77.488397     Richmond           VA       23224        urban   \n",
       "4        -87.650233      Chicago           IL       60613        urban   \n",
       "\n",
       "             ...             at_least_1_teacher_referred_donor fully_funded  \\\n",
       "0            ...                                             f            t   \n",
       "1            ...                                           NaN            f   \n",
       "2            ...                                             f            f   \n",
       "3            ...                                             f            f   \n",
       "4            ...                                             f            t   \n",
       "\n",
       "  at_least_1_green_donation great_chat  \\\n",
       "0                         f          t   \n",
       "1                       NaN          f   \n",
       "2                         t          f   \n",
       "3                         t          f   \n",
       "4                         t          f   \n",
       "\n",
       "  three_or_more_non_teacher_referred_donors  \\\n",
       "0                                         t   \n",
       "1                                       NaN   \n",
       "2                                         f   \n",
       "3                                         f   \n",
       "4                                         f   \n",
       "\n",
       "  one_non_teacher_referred_donor_giving_100_plus  \\\n",
       "0                                              t   \n",
       "1                                            NaN   \n",
       "2                                              f   \n",
       "3                                              f   \n",
       "4                                              t   \n",
       "\n",
       "  donation_from_thoughtful_donor great_messages_proportion  \\\n",
       "0                              f                        80   \n",
       "1                            NaN                       NaN   \n",
       "2                              f                       NaN   \n",
       "3                              f                       NaN   \n",
       "4                              f                        50   \n",
       "\n",
       "  teacher_referred_count non_teacher_referred_count  \n",
       "0                      0                          6  \n",
       "1                    NaN                        NaN  \n",
       "2                      0                          2  \n",
       "3                      0                          1  \n",
       "4                      0                          2  \n",
       "\n",
       "[5 rows x 46 columns]"
      ]
     },
     "execution_count": 166,
     "metadata": {},
     "output_type": "execute_result"
    }
   ],
   "source": [
    "df_combined.head()"
   ]
  },
  {
   "cell_type": "code",
   "execution_count": 167,
   "metadata": {
    "collapsed": false
   },
   "outputs": [
    {
     "data": {
      "text/plain": [
       "<matplotlib.axes._subplots.AxesSubplot at 0x7f104f9c73c8>"
      ]
     },
     "execution_count": 167,
     "metadata": {},
     "output_type": "execute_result"
    },
    {
     "data": {
      "image/png": "[encoded data removed]",
      "text/plain": [
       "<matplotlib.figure.Figure at 0x7f1045f85d68>"
      ]
     },
     "metadata": {},
     "output_type": "display_data"
    }
   ],
   "source": [
    "df_exciting = df_combined[df_combined['is_exciting'] == 't']\n",
    "df_unsorted = df_exciting[['schoolid']].groupby(df_exciting['date_posted']).count().reset_index()\n",
    "df_unsorted = df_unsorted.rename(columns = {'schoolid':'Count of exciting projects'})\n",
    "df_unsorted.plot(x='date_posted', y='Count of exciting projects')"
   ]
  },
  {
   "cell_type": "markdown",
   "metadata": {},
   "source": [
    "You will see that there is no exciting projects before 2010-04-14. This can effect the accuracy of prediction. The reason is DonorsChoose.org simply did not keep track of some of the requirements needed to decide 'is_exciting'. How can you avoid this issue in your prediction?"
   ]
  },
  {
   "cell_type": "markdown",
   "metadata": {},
   "source": [
    "I can avoid this issue in my prediction by running the test data from 2010-04-14 to 2014-01-01. Alternatively, if I want to be more thorough, I can cluster the previous projects for which exciting features are not tracked through cluster analysis. "
   ]
  },
  {
   "cell_type": "markdown",
   "metadata": {},
   "source": [
    "## Load the CSV files into Pandas and preprocess as needed\n",
    "Let us stick to projects.csv and outcomes.csv for the tasks in this lab session for now. Check whether there are Null instances or other problems in your data  you should take care of."
   ]
  },
  {
   "cell_type": "code",
   "execution_count": 226,
   "metadata": {
    "collapsed": false
   },
   "outputs": [],
   "source": [
    "#df_projects.isnull().values.any()\n",
    "#df_outcomes.isnull().values.any()\n",
    "\n",
    "#Given that this is a time series data, it makes sense to fill in the entry from the previous record.\n",
    "df_combined = df_combined.fillna(method='bfill')\n",
    "#df_outcomes = df_outcomes.fillna(method='bfill')"
   ]
  },
  {
   "cell_type": "markdown",
   "metadata": {},
   "source": [
    "## Prediction tasks\n",
    "In this lab we ask you to work on the following two prediction tasks. The first one is a binary classfication and the second one is a multi-class classification problem."
   ]
  },
  {
   "cell_type": "markdown",
   "metadata": {},
   "source": [
    "### Task 1\n",
    "Predict whether a project is exciting by picking the features you chose from the dataset. Feel free to make new features from the existing ones."
   ]
  },
  {
   "cell_type": "markdown",
   "metadata": {},
   "source": [
    "### Task 2\n",
    "Predict the Poverty level of the school. Which feature would you pick from the dataset?"
   ]
  },
  {
   "cell_type": "markdown",
   "metadata": {},
   "source": [
    "## Choose your features\n",
    "For each task, choose some of the data fields from projects.csv that you think could be used as useful features for predicting the 'is-exciting' and poverty level outcome."
   ]
  },
  {
   "cell_type": "code",
   "execution_count": 227,
   "metadata": {
    "collapsed": false
   },
   "outputs": [
    {
     "data": {
      "text/plain": [
       "Index(['projectid', 'teacher_acctid', 'schoolid', 'school_ncesid',\n",
       "       'school_latitude', 'school_longitude', 'school_city', 'school_state',\n",
       "       'school_zip', 'school_metro', 'school_district', 'school_county',\n",
       "       'school_charter', 'school_magnet', 'school_year_round', 'school_nlns',\n",
       "       'school_kipp', 'school_charter_ready_promise', 'teacher_prefix',\n",
       "       'teacher_teach_for_america', 'teacher_ny_teaching_fellow',\n",
       "       'primary_focus_subject', 'primary_focus_area',\n",
       "       'secondary_focus_subject', 'secondary_focus_area', 'resource_type',\n",
       "       'poverty_level', 'grade_level', 'fulfillment_labor_materials',\n",
       "       'total_price_excluding_optional_support',\n",
       "       'total_price_including_optional_support', 'students_reached',\n",
       "       'eligible_double_your_impact_match', 'eligible_almost_home_match',\n",
       "       'date_posted'],\n",
       "      dtype='object')"
      ]
     },
     "execution_count": 227,
     "metadata": {},
     "output_type": "execute_result"
    }
   ],
   "source": [
    "df_projects.columns"
   ]
  },
  {
   "cell_type": "code",
   "execution_count": 234,
   "metadata": {
    "collapsed": false
   },
   "outputs": [],
   "source": [
    "df_projects_sample = df_combined[['total_price_excluding_optional_support', 'total_price_including_optional_support','students_reached']]\n",
    "#df_projects_sample = df_combined[['school_metro', 'school_county', 'grade_level', 'primary_focus_area', 'students_reached', 'poverty_level']]"
   ]
  },
  {
   "cell_type": "markdown",
   "metadata": {},
   "source": [
    "## Form your train and test set\n",
    "Separate a portion of your data as train and the other portion as test set to work with. Keep these two sets fixed for all of your experiments and choose them randomly. You can use the following:"
   ]
  },
  {
   "cell_type": "code",
   "execution_count": 236,
   "metadata": {
    "collapsed": false
   },
   "outputs": [],
   "source": [
    "from sklearn.cross_validation import train_test_split"
   ]
  },
  {
   "cell_type": "code",
   "execution_count": 237,
   "metadata": {
    "collapsed": false
   },
   "outputs": [],
   "source": [
    "# same size for both data frames\n",
    "project_train, project_test, outcomes_train, outcomes_test = train_test_split(df_projects_sample, df_combined.is_exciting, test_size=0.3, random_state=42)"
   ]
  },
  {
   "cell_type": "markdown",
   "metadata": {},
   "source": [
    "## Train your models and test on your test data\n",
    "\n",
    "### First step\n",
    "\n",
    "Train KNN and Decision Tree models with your training set for each task. Choose some initial parameters for your models and see how they perform on the test set for these tasks."
   ]
  },
  {
   "cell_type": "code",
   "execution_count": 256,
   "metadata": {
    "collapsed": true
   },
   "outputs": [],
   "source": [
    "# You may need to import these:\n",
    "from sklearn.neighbors import KNeighborsClassifier\n",
    "from sklearn import tree"
   ]
  },
  {
   "cell_type": "markdown",
   "metadata": {},
   "source": [
    "# for KNN"
   ]
  },
  {
   "cell_type": "code",
   "execution_count": 239,
   "metadata": {
    "collapsed": false
   },
   "outputs": [
    {
     "data": {
      "text/plain": [
       "KNeighborsClassifier(algorithm='auto', leaf_size=30, metric='minkowski',\n",
       "           metric_params=None, n_neighbors=3, p=2, weights='uniform')"
      ]
     },
     "execution_count": 239,
     "metadata": {},
     "output_type": "execute_result"
    }
   ],
   "source": [
    "#le = preprocessing.LabelEncoder()\n",
    "#le.fit(project_train[['school_metro'])\n",
    "neighbor = KNeighborsClassifier(n_neighbors=3)\n",
    "neighbor.fit(project_train, outcomes_train) "
   ]
  },
  {
   "cell_type": "code",
   "execution_count": 243,
   "metadata": {
    "collapsed": false
   },
   "outputs": [
    {
     "data": {
      "text/plain": [
       "array(['f', 'f', 'f', ..., 'f', 'f', 'f'], dtype=object)"
      ]
     },
     "execution_count": 243,
     "metadata": {},
     "output_type": "execute_result"
    }
   ],
   "source": [
    "neighbor.predict(project_test)"
   ]
  },
  {
   "cell_type": "code",
   "execution_count": 255,
   "metadata": {
    "collapsed": false
   },
   "outputs": [
    {
     "data": {
      "text/plain": [
       "0.92844379379756514"
      ]
     },
     "execution_count": 255,
     "metadata": {},
     "output_type": "execute_result"
    }
   ],
   "source": [
    "neighbor.score(project_test, outcomes_test)"
   ]
  },
  {
   "cell_type": "code",
   "execution_count": 259,
   "metadata": {
    "collapsed": false
   },
   "outputs": [
    {
     "data": {
      "text/plain": [
       "array([[ 0.66666667,  0.33333333],\n",
       "       [ 0.66666667,  0.33333333],\n",
       "       [ 1.        ,  0.        ],\n",
       "       ..., \n",
       "       [ 0.66666667,  0.33333333],\n",
       "       [ 1.        ,  0.        ],\n",
       "       [ 1.        ,  0.        ]])"
      ]
     },
     "execution_count": 259,
     "metadata": {},
     "output_type": "execute_result"
    }
   ],
   "source": [
    "neighbor.predict_proba(project_test)"
   ]
  },
  {
   "cell_type": "code",
   "execution_count": 271,
   "metadata": {
    "collapsed": false
   },
   "outputs": [],
   "source": [
    "project_test_mini = project_test[:5]"
   ]
  },
  {
   "cell_type": "markdown",
   "metadata": {},
   "source": [
    "## Explore the models you just built"
   ]
  },
  {
   "cell_type": "markdown",
   "metadata": {},
   "source": [
    "### kNN\n",
    "For kNN, take a few points and retrieve neirest neighbors for each of them? Do the neighbors make sense? \n",
    "Would you change the distance function to get \"better\" neighbors?"
   ]
  },
  {
   "cell_type": "markdown",
   "metadata": {
    "collapsed": true
   },
   "source": []
  },
  {
   "cell_type": "code",
   "execution_count": 266,
   "metadata": {
    "collapsed": false
   },
   "outputs": [
    {
     "data": {
      "text/plain": [
       "(array([[ 0.01414214,  0.19209373,  0.72346389,  1.14978259],\n",
       "        [ 0.15620499,  0.17029386,  0.18439089,  0.27658633],\n",
       "        [ 0.01414214,  0.32649655,  0.34058773,  0.94366308],\n",
       "        [ 1.1088733 ,  1.12004464,  1.12004464,  1.12004464],\n",
       "        [ 1.86772589,  2.16333077,  2.32894826,  2.48419001]]),\n",
       " array([[168652, 392563, 346462, 308242],\n",
       "        [ 55342, 260113, 355423, 228927],\n",
       "        [ 67483,  42283, 218212,  76313],\n",
       "        [ 69311,  26924,  63803, 120299],\n",
       "        [ 71591, 241842, 144120, 158622]]))"
      ]
     },
     "execution_count": 266,
     "metadata": {},
     "output_type": "execute_result"
    }
   ],
   "source": [
    "neighbor.kneighbors(X=project_test_mini, n_neighbors=4, return_distance=True)"
   ]
  },
  {
   "cell_type": "markdown",
   "metadata": {},
   "source": [
    "They don't make a lot of sense for the first record. Yes, I'd like to use a different function to get better neighbors."
   ]
  },
  {
   "cell_type": "markdown",
   "metadata": {},
   "source": [
    "### Decision Trees\n",
    "For Decision Trees, can you visualize or print out the tree? Try using sklearn.tree.export_graphviz()"
   ]
  },
  {
   "cell_type": "markdown",
   "metadata": {},
   "source": []
  },
  {
   "cell_type": "markdown",
   "metadata": {},
   "source": [
    "## How do these models change as you vary the parameters?\n",
    "\n",
    "### For kNN, see what happens when:\n",
    "- you do or do not scale/normalize features\n",
    "- you vary k from very small to very large\n",
    "- you vary distance metrics\n",
    "- you vary distance weighting"
   ]
  },
  {
   "cell_type": "markdown",
   "metadata": {
    "collapsed": true
   },
   "source": [
    "varying k from very small to very large"
   ]
  },
  {
   "cell_type": "code",
   "execution_count": 268,
   "metadata": {
    "collapsed": false
   },
   "outputs": [
    {
     "data": {
      "text/plain": [
       "0.89326042260950067"
      ]
     },
     "execution_count": 268,
     "metadata": {},
     "output_type": "execute_result"
    }
   ],
   "source": [
    "neighbor = KNeighborsClassifier(n_neighbors=1)\n",
    "neighbor.fit(project_train, outcomes_train) \n",
    "neighbor.score(project_test, outcomes_test)"
   ]
  },
  {
   "cell_type": "code",
   "execution_count": 269,
   "metadata": {
    "collapsed": false
   },
   "outputs": [
    {
     "data": {
      "text/plain": [
       "0.94080668252618438"
      ]
     },
     "execution_count": 269,
     "metadata": {},
     "output_type": "execute_result"
    }
   ],
   "source": [
    "neighbor = KNeighborsClassifier(n_neighbors=10)\n",
    "neighbor.fit(project_train, outcomes_train) \n",
    "neighbor.score(project_test, outcomes_test)"
   ]
  },
  {
   "cell_type": "markdown",
   "metadata": {},
   "source": [
    "The prediction accuracy increases. This indicates that the data may be more evenly spread."
   ]
  },
  {
   "cell_type": "markdown",
   "metadata": {},
   "source": [
    "varying distance weighting"
   ]
  },
  {
   "cell_type": "code",
   "execution_count": 270,
   "metadata": {
    "collapsed": false
   },
   "outputs": [
    {
     "data": {
      "text/plain": [
       "0.91102164716520095"
      ]
     },
     "execution_count": 270,
     "metadata": {},
     "output_type": "execute_result"
    }
   ],
   "source": [
    "neighbor = KNeighborsClassifier(n_neighbors=3, weights = 'distance')\n",
    "neighbor.fit(project_train, outcomes_train) \n",
    "neighbor.score(project_test, outcomes_test)"
   ]
  },
  {
   "cell_type": "markdown",
   "metadata": {},
   "source": [
    "accuracy rates = 0.911 (distance weighting) versus 0.928 (uniform weighting)"
   ]
  },
  {
   "cell_type": "code",
   "execution_count": null,
   "metadata": {
    "collapsed": true
   },
   "outputs": [],
   "source": [
    "varying distance metrics"
   ]
  },
  {
   "cell_type": "code",
   "execution_count": 272,
   "metadata": {
    "collapsed": false
   },
   "outputs": [
    {
     "data": {
      "text/plain": [
       "0.92852990882571396"
      ]
     },
     "execution_count": 272,
     "metadata": {},
     "output_type": "execute_result"
    }
   ],
   "source": [
    "neighbor = KNeighborsClassifier(n_neighbors=3, p = 1)\n",
    "neighbor.fit(project_train, outcomes_train) \n",
    "neighbor.score(project_test, outcomes_test)"
   ]
  },
  {
   "cell_type": "markdown",
   "metadata": {},
   "source": [
    "accuracy rates = 0.9284 (Manhattan distance metric) versus 0.9285 (Euclidean distance metric)"
   ]
  },
  {
   "cell_type": "markdown",
   "metadata": {},
   "source": [
    "### For decision trees, try similar ideas:\n",
    "- vary pruning and stopping strategies, use the following parameters:\n",
    "    - min_impurity_split\n",
    "    - min_samples_split\n",
    "- vary splitting criteria, use the following parameters:\n",
    "    - max_depth\n",
    "    - mean_samples_leaf\n",
    "    - max_leaf_nodes\n",
    "    \n",
    "Check the reference below for description of these parameters"
   ]
  },
  {
   "cell_type": "code",
   "execution_count": null,
   "metadata": {
    "collapsed": true
   },
   "outputs": [],
   "source": []
  },
  {
   "cell_type": "markdown",
   "metadata": {},
   "source": [
    "## Operationalizing this search through the parameter space\n",
    "\n",
    "Can you put all all of these variations in a nested for loop and run all of them and look at the performance of the models?"
   ]
  },
  {
   "cell_type": "code",
   "execution_count": null,
   "metadata": {
    "collapsed": true
   },
   "outputs": [],
   "source": []
  },
  {
   "cell_type": "markdown",
   "metadata": {},
   "source": [
    "## References\n",
    "http://scikit-learn.org/stable/auto_examples/neighbors/plot_classification.html#sphx-glr-auto-examples-neighbors-plot-classification-py\n",
    "\n",
    "http://scikit-learn.org/stable/modules/tree.html\n",
    "\n",
    "Different parameters for decision tree:\n",
    "http://scikit-learn.org/stable/modules/generated/sklearn.tree.DecisionTreeClassifier.html#sklearn.tree.DecisionTreeClassifier"
   ]
  },
  {
   "cell_type": "code",
   "execution_count": null,
   "metadata": {
    "collapsed": true
   },
   "outputs": [],
   "source": []
  }
 ],
 "metadata": {
  "kernelspec": {
   "display_name": "Python 3",
   "language": "python",
   "name": "python3"
  },
  "language_info": {
   "codemirror_mode": {
    "name": "ipython",
    "version": 3
   },
   "file_extension": ".py",
   "mimetype": "text/x-python",
   "name": "python",
   "nbconvert_exporter": "python",
   "pygments_lexer": "ipython3",
   "version": "3.6.0"
  }
 },
 "nbformat": 4,
 "nbformat_minor": 0
}
